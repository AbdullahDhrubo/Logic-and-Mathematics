{
 "cells": [
  {
   "cell_type": "markdown",
   "metadata": {},
   "source": [
    "# GMI23G Logic and Mathematics for Computer Science\n",
    "## Dalarna University, Spring 2023 \n",
    "#### Solved on: 27/01/2023\n",
    "\n",
    "# Python Lab 1/4\n"
   ]
  },
  {
   "cell_type": "markdown",
   "metadata": {},
   "source": [
    "### Student name: Abu Abdullah Dhrubo\n",
    "### Email address: h21abudh@du.se"
   ]
  },
  {
   "cell_type": "code",
   "execution_count": 1,
   "metadata": {},
   "outputs": [],
   "source": [
    "# Importing required libraries for this lab\n",
    "import matplotlib.pyplot as plt\n",
    "import numpy as np\n",
    "import sage.logic.propcalc as propcalc"
   ]
  },
  {
   "cell_type": "markdown",
   "metadata": {},
   "source": [
    "## Task 1"
   ]
  },
  {
   "cell_type": "markdown",
   "metadata": {},
   "source": [
    "    Solve for x.\n",
    "                                            1. sqrt(x)=2\n",
    "                                            2. e^(3*x)=5\n",
    "                                            3. sin(x) =1\n"
   ]
  },
  {
   "cell_type": "code",
   "execution_count": 2,
   "metadata": {},
   "outputs": [
    {
     "name": "stdout",
     "output_type": "stream",
     "text": [
      "Solution for the - Task 1(1)\n"
     ]
    },
    {
     "data": {
      "text/plain": [
       "[x == 4]"
      ]
     },
     "execution_count": 2,
     "metadata": {},
     "output_type": "execute_result"
    }
   ],
   "source": [
    "print(\"Solution for the - Task 1(1)\")\n",
    "solve((sqrt(x)==2),x) # solution for the - Task 1(1)"
   ]
  },
  {
   "cell_type": "code",
   "execution_count": 3,
   "metadata": {},
   "outputs": [
    {
     "name": "stdout",
     "output_type": "stream",
     "text": [
      "Solution for the - Task 1(2)\n"
     ]
    },
    {
     "data": {
      "text/plain": [
       "[x == log(1/2*I*5^(1/3)*sqrt(3) - 1/2*5^(1/3)), x == log(-1/2*I*5^(1/3)*sqrt(3) - 1/2*5^(1/3)), x == 1/3*log(5)]"
      ]
     },
     "execution_count": 3,
     "metadata": {},
     "output_type": "execute_result"
    }
   ],
   "source": [
    "print(\"Solution for the - Task 1(2)\")\n",
    "solve(exp(3*x)==5, x) # solution for the - Task 1(2)"
   ]
  },
  {
   "cell_type": "code",
   "execution_count": 4,
   "metadata": {},
   "outputs": [
    {
     "name": "stdout",
     "output_type": "stream",
     "text": [
      "Solution for the - Task 1(3)\n"
     ]
    },
    {
     "data": {
      "text/plain": [
       "[x == 1/2*pi]"
      ]
     },
     "execution_count": 4,
     "metadata": {},
     "output_type": "execute_result"
    }
   ],
   "source": [
    "print(\"Solution for the - Task 1(3)\")\n",
    "solve(sin(x) == 1, x)"
   ]
  },
  {
   "cell_type": "markdown",
   "metadata": {},
   "source": [
    "## Task 2"
   ]
  },
  {
   "cell_type": "markdown",
   "metadata": {},
   "source": [
    "$f(z) = z(z+1)$"
   ]
  },
  {
   "cell_type": "markdown",
   "metadata": {},
   "source": [
    "\n",
    "                              1. Print solution to f(10)\n",
    "                              2. Plot f(z), where z->[0,3] using plot() function"
   ]
  },
  {
   "cell_type": "code",
   "execution_count": 5,
   "metadata": {},
   "outputs": [
    {
     "name": "stdout",
     "output_type": "stream",
     "text": [
      "Solution for the - Task 2(1)\n",
      "\n",
      "Numerical value of the 𝑓(10) is 110\n"
     ]
    }
   ],
   "source": [
    "# solution for the - Task 2(1)\n",
    "z = var('z')\n",
    "f = z*(z+1)\n",
    "\n",
    "value = 10 # put your value to solve for\n",
    "p = f(value)\n",
    "print('Solution for the - Task 2(1)\\n')\n",
    "print(f'Numerical value of the 𝑓({value}) is {p}')"
   ]
  },
  {
   "cell_type": "code",
   "execution_count": 6,
   "metadata": {},
   "outputs": [
    {
     "name": "stdout",
     "output_type": "stream",
     "text": [
      "Solution for the - Task 2(2)\n",
      "\n",
      " The value of z =  [0. 1. 2. 3.] \n",
      " The value of f(z)=  [0.0, 2.0, 6.0, 12.0] \n",
      "\n",
      "\n",
      " Plot f(z), where z->[0,3] using plot() function.\n"
     ]
    },
    {
     "data": {
      "text/plain": [
       "Text(0, 0.5, 'f(z)')"
      ]
     },
     "execution_count": 6,
     "metadata": {},
     "output_type": "execute_result"
    },
    {
     "data": {
      "image/png": "[encoded data removed]",
      "text/plain": [
       "<Figure size 432x288 with 1 Axes>"
      ]
     },
     "metadata": {
      "needs_background": "light"
     },
     "output_type": "display_data"
    }
   ],
   "source": [
    "# solution for the - Task 2(2)\n",
    "z = var('z') #variable 'z' is defined as a symbolic variable using the var() function\n",
    "f = z*(z+1) \n",
    "x = np.linspace(0, 3, 4) # 4 points from 0 to 3 in ndarray\n",
    "\n",
    "y = list(map(f, x)) #evaluating f for each point in xvals \n",
    "\n",
    "print('Solution for the - Task 2(2)\\n')\n",
    "print(\" The value of z = \", x,\"\\n\",\"The value of f(z)= \", y,\"\\n\\n\")\n",
    "print(' Plot f(z), where z->[0,3] using plot() function.')\n",
    "plt.plot(x, y)\n",
    "plt.scatter(x, y, color='red')\n",
    "plt.grid()\n",
    "plt.title(\"Plot of f(z) = z(z+1)\")\n",
    "plt.xlabel(\"z\")\n",
    "plt.ylabel(\"f(z)\")"
   ]
  },
  {
   "cell_type": "markdown",
   "metadata": {},
   "source": [
    "## Task 3"
   ]
  },
  {
   "cell_type": "markdown",
   "metadata": {},
   "source": [
    "     Integrate and differenciate f(x) w.r.t x\n",
    "    "
   ]
  },
  {
   "cell_type": "markdown",
   "metadata": {},
   "source": [
    "$f(x)= sin(x)cos(x)tan(x)$"
   ]
  },
  {
   "cell_type": "code",
   "execution_count": 7,
   "metadata": {},
   "outputs": [
    {
     "name": "stdout",
     "output_type": "stream",
     "text": [
      "Solution for the - Task 3\n",
      " The integrate value of f(x) is = 1/2*x - 1/4*sin(2*x) \n",
      " The differentiate value of f(x) is = (tan(x)^2 + 1)*cos(x)*sin(x) + cos(x)^2*tan(x) - sin(x)^2*tan(x)\n"
     ]
    }
   ],
   "source": [
    "# solution for the - Task 3\n",
    "f(x) = sin(x)*cos(x)*tan(x)\n",
    "\n",
    "r = integrate(f(x),x)\n",
    "s = diff(f(x),x)\n",
    "print('Solution for the - Task 3')\n",
    "print(\" The integrate value of f(x) is =\",r,\"\\n\",'The differentiate value of f(x) is =',s)"
   ]
  },
  {
   "cell_type": "markdown",
   "metadata": {},
   "source": [
    "## Task 4"
   ]
  },
  {
   "cell_type": "markdown",
   "metadata": {},
   "source": [
    "     Perform following operations on the two matrices defined below and print the   \n",
    "     resultant Matrices.\n",
    "               \n",
    "                 1. A+B\n",
    "                 2. A-B\n",
    "                 3. A*B\n",
    "          \n",
    "\\begin{pmatrix}\n",
    "1 & 2\\\\\n",
    "3 & 8\n",
    "\\end{pmatrix}\n",
    "\n",
    "\\begin{pmatrix}\n",
    "4 & 7\\\\\n",
    "10 & 9\n",
    "\\end{pmatrix}\n"
   ]
  },
  {
   "cell_type": "code",
   "execution_count": 8,
   "metadata": {},
   "outputs": [
    {
     "name": "stdout",
     "output_type": "stream",
     "text": [
      "Solution for the - Task 4\n",
      "\n",
      "1. The solution for the matrix A+B is\n",
      "\n",
      "[ 5  9]\n",
      "[13 17]\n",
      "\n",
      "2. The solution for the matrix A-B is\n",
      "\n",
      "[-3 -5]\n",
      "[-7 -1]\n",
      "\n",
      "3. The solution for the matrix A*B is\n",
      "\n",
      "[24 25]\n",
      "[92 93]\n"
     ]
    }
   ],
   "source": [
    "print('Solution for the - Task 4')\n",
    "A = matrix([[1,2],[3,8]])\n",
    "B = matrix([[4,7],[10,9]])\n",
    "\n",
    "print(\"\\n1. The solution for the matrix A+B is\\n\", A+B, \"\\n2. The solution for the matrix A-B is\\n\", A-B,\"\\n3. The solution for the matrix A*B is\\n\", A*B, sep='\\n')"
   ]
  },
  {
   "cell_type": "markdown",
   "metadata": {},
   "source": [
    "## Task 5"
   ]
  },
  {
   "cell_type": "markdown",
   "metadata": {},
   "source": [
    "    Create a boolen formula and a truthtable for the expression below, by using sageMath.\n",
    "\n",
    "                    expression: ((not(p))and q) or (p and((not)q))\n",
    "                \n",
    "    &    – and \n",
    "    |    – or \n",
    "    ~    – not/prime \n",
    "    ^    – xor \n",
    "    ->   – if-then \n",
    "    -->  – implies \n",
    "    <->  – if and only if\n",
    "    "
   ]
  },
  {
   "cell_type": "code",
   "execution_count": 9,
   "metadata": {},
   "outputs": [
    {
     "name": "stdout",
     "output_type": "stream",
     "text": [
      "Solution for the - Task 5\n"
     ]
    },
    {
     "data": {
      "text/plain": [
       "P      Q      value\n",
       "False  False  False  \n",
       "False  True   True   \n",
       "True   False  True   \n",
       "True   True   False  \n"
      ]
     },
     "execution_count": 9,
     "metadata": {},
     "output_type": "execute_result"
    }
   ],
   "source": [
    "#(conjunction of negation of P and Q) and (conjunction of P and negation of Q)\n",
    "T = propcalc.formula(\"(~P&Q)^(P&~Q)\")\n",
    "\n",
    "print('Solution for the - Task 5')\n",
    "#Creating the truth table of the propositional formula T\n",
    "T.truthtable()"
   ]
  },
  {
   "cell_type": "markdown",
   "metadata": {},
   "source": [
    "## Task 6"
   ]
  },
  {
   "cell_type": "markdown",
   "metadata": {},
   "source": [
    "    Construct a polynomial f as defined below, and find its roots using sageMath.                              "
   ]
  },
  {
   "cell_type": "markdown",
   "metadata": {},
   "source": [
    "$f=x^2-x-1$"
   ]
  },
  {
   "cell_type": "code",
   "execution_count": 10,
   "metadata": {},
   "outputs": [
    {
     "name": "stdout",
     "output_type": "stream",
     "text": [
      "Solution for the - Task 6\n"
     ]
    },
    {
     "data": {
      "text/plain": [
       "[x == -1/2*sqrt(5) + 1/2, x == 1/2*sqrt(5) + 1/2]"
      ]
     },
     "execution_count": 10,
     "metadata": {},
     "output_type": "execute_result"
    }
   ],
   "source": [
    "x = var('x') # Creating a symbolic variable x\n",
    "f = x^2 - x - 1 # Constructing the polynomial f(x) = x^2 - x - 1\n",
    "\n",
    "print('Solution for the - Task 6')\n",
    "solve(f, x) # finding the roots of the polynomial f(x)"
   ]
  }
 ],
 "metadata": {
  "kernelspec": {
   "display_name": "SageMath 9.3",
   "language": "sage",
   "name": "sagemath"
  },
  "language_info": {
   "codemirror_mode": {
    "name": "ipython",
    "version": 3
   },
   "file_extension": ".py",
   "mimetype": "text/x-python",
   "name": "python",
   "nbconvert_exporter": "python",
   "pygments_lexer": "ipython3",
   "version": "3.7.10"
  }
 },
 "nbformat": 4,
 "nbformat_minor": 4
}
